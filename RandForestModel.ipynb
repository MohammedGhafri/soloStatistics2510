{
 "cells": [
  {
   "cell_type": "code",
   "execution_count": 15,
   "metadata": {},
   "outputs": [
    {
     "name": "stdout",
     "output_type": "stream",
     "text": [
      "data dimensions (569, 30)\n"
     ]
    }
   ],
   "source": [
    "import pandas as pd\n",
    "from sklearn.datasets import load_breast_cancer\n",
    "\n",
    "cancer_data = load_breast_cancer()\n",
    "df = pd.DataFrame(cancer_data['data'], columns=cancer_data['feature_names'])\n",
    "df['target'] = cancer_data['target']\n",
    "\n",
    "X = df[cancer_data.feature_names].values\n",
    "y = df['target'].values\n",
    "print('data dimensions', X.shape)"
   ]
  },
  {
   "cell_type": "markdown",
   "metadata": {},
   "source": [
    "# Random Forest with Sklearn"
   ]
  },
  {
   "cell_type": "code",
   "execution_count": 16,
   "metadata": {},
   "outputs": [
    {
     "name": "stdout",
     "output_type": "stream",
     "text": [
      "prediction: [1]\n",
      "true value: 1\n"
     ]
    }
   ],
   "source": [
    "import pandas as pd\n",
    "from sklearn.datasets import load_breast_cancer\n",
    "from sklearn.ensemble import RandomForestClassifier\n",
    "from sklearn.model_selection import train_test_split\n",
    "\n",
    "cancer_data = load_breast_cancer()\n",
    "df = pd.DataFrame(cancer_data['data'], columns=cancer_data['feature_names'])\n",
    "df['target'] = cancer_data['target']\n",
    "\n",
    "X = df[cancer_data.feature_names].values\n",
    "y = df['target'].values\n",
    "\n",
    "X_train, X_test, y_train, y_test = train_test_split(X, y, random_state=101)\n",
    "\n",
    "rf = RandomForestClassifier()\n",
    "rf.fit(X_train, y_train)\n",
    "\n",
    "first_row = X_test[0]\n",
    "print(\"prediction:\", rf.predict([first_row]))\n",
    "print(\"true value:\", y_test[0])"
   ]
  },
  {
   "cell_type": "code",
   "execution_count": 17,
   "metadata": {},
   "outputs": [
    {
     "name": "stdout",
     "output_type": "stream",
     "text": [
      "random forest accuracy: 0.965034965034965\n"
     ]
    }
   ],
   "source": [
    "\n",
    "\n",
    "print(\"random forest accuracy:\", rf.score(X_test, y_test))"
   ]
  },
  {
   "cell_type": "code",
   "execution_count": 18,
   "metadata": {},
   "outputs": [
    {
     "name": "stdout",
     "output_type": "stream",
     "text": [
      "decision tree accuracy: 0.9090909090909091\n"
     ]
    }
   ],
   "source": [
    "from sklearn.tree import DecisionTreeClassifier\n",
    "dt = DecisionTreeClassifier()\n",
    "dt.fit(X_train, y_train)\n",
    "print(\"decision tree accuracy:\", dt.score(X_test, y_test))"
   ]
  },
  {
   "cell_type": "markdown",
   "metadata": {},
   "source": [
    "## Grid search Rand Forest Model"
   ]
  },
  {
   "cell_type": "code",
   "execution_count": 19,
   "metadata": {},
   "outputs": [
    {
     "name": "stdout",
     "output_type": "stream",
     "text": [
      "best params: {'n_estimators': 25}\n"
     ]
    }
   ],
   "source": [
    "\n",
    "from sklearn.model_selection import GridSearchCV\n",
    "\n",
    "\n",
    "param_grid = {\n",
    "    'n_estimators': [10, 25, 50, 75, 100],\n",
    "}\n",
    "\n",
    "rf = RandomForestClassifier(random_state=123)\n",
    "gs = GridSearchCV(rf, param_grid, scoring='f1', cv=5)\n",
    "gs.fit(X, y)\n",
    "print(\"best params:\", gs.best_params_)"
   ]
  },
  {
   "cell_type": "markdown",
   "metadata": {},
   "source": [
    "## Elbow Graph\n",
    "to find the sweet spot. Elbow Graph is a model that optimizes performance without adding unnecessary complexity."
   ]
  },
  {
   "cell_type": "code",
   "execution_count": 20,
   "metadata": {},
   "outputs": [
    {
     "name": "stdout",
     "output_type": "stream",
     "text": [
      "best params: {'n_estimators': 30}\n"
     ]
    }
   ],
   "source": [
    "n_estimators = list(range(1, 101))\n",
    "param_grid = {\n",
    "    'n_estimators': n_estimators,\n",
    "}\n",
    "rf = RandomForestClassifier(random_state=123)\n",
    "gs = GridSearchCV(rf, param_grid, cv=5)\n",
    "gs.fit(X, y)\n",
    "print(\"best params:\", gs.best_params_)"
   ]
  },
  {
   "cell_type": "code",
   "execution_count": 21,
   "metadata": {},
   "outputs": [],
   "source": [
    "scores = gs.cv_results_['mean_test_score']\n",
    "# print(scores)"
   ]
  },
  {
   "cell_type": "code",
   "execution_count": 22,
   "metadata": {},
   "outputs": [
    {
     "data": {
      "image/png": "[encoded data removed]",
      "text/plain": [
       "<Figure size 432x288 with 1 Axes>"
      ]
     },
     "metadata": {
      "needs_background": "light"
     },
     "output_type": "display_data"
    }
   ],
   "source": [
    "import matplotlib.pyplot as plt\n",
    "scores = gs.cv_results_['mean_test_score']\n",
    "plt.plot(n_estimators, scores)\n",
    "plt.xlabel(\"n_estimators\")\n",
    "plt.ylabel('accuracy')\n",
    "plt.xlim(0,100)\n",
    "plt.ylim(0.9,1)\n",
    "plt.grid(b='Ture')\n",
    "plt.show()\n",
    "\n",
    "\n",
    "# import matplotlib.pyplot as plt\n",
    "\n",
    "# scores = gs.cv_results_['mean_test_score']\n",
    "# plt.plot(n_estimators, scores)\n",
    "# plt.xlabel(\"n_estimators\")\n",
    "# plt.ylabel(\"accuracy\")\n",
    "# plt.xlim(0, 100)\n",
    "# plt.ylim(0.9, 1)\n",
    "# plt.show()"
   ]
  },
  {
   "cell_type": "code",
   "execution_count": 23,
   "metadata": {},
   "outputs": [
    {
     "name": "stdout",
     "output_type": "stream",
     "text": [
      "[0.9719143  0.9719143  0.97189877 0.97365316 0.97015991 0.97015991\n",
      " 0.97015991 0.97015991 0.97014439 0.97014439 0.97014439 0.96840553\n",
      " 0.96840553 0.96840553 0.96840553]\n"
     ]
    }
   ],
   "source": [
    "import numpy as np\n",
    "\n",
    "test = gs.cv_results_['mean_test_score']\n",
    "\n",
    "temp = np.argpartition(-test, 10)\n",
    "result_args = temp[:4]\n",
    "\n",
    "temp = np.partition(-test, 10)\n",
    "result = -temp[:15]\n",
    "print(result)"
   ]
  },
  {
   "cell_type": "code",
   "execution_count": 24,
   "metadata": {},
   "outputs": [
    {
     "name": "stdout",
     "output_type": "stream",
     "text": [
      "best params: {'n_estimators': 30}\n"
     ]
    }
   ],
   "source": [
    "rf = RandomForestClassifier(n_estimators=10)\n",
    "rf.fit(X, y) \n",
    "print(\"best params:\", gs.best_params_)"
   ]
  },
  {
   "cell_type": "code",
   "execution_count": 25,
   "metadata": {},
   "outputs": [
    {
     "name": "stderr",
     "output_type": "stream",
     "text": [
      "<ipython-input-25-a0404ac60021>:46: MatplotlibDeprecationWarning: The 's' parameter of annotate() has been renamed 'text' since Matplotlib 3.3; support for the old name will be dropped two minor releases later.\n",
      "  plt.annotate(s=max_text,xy=(max_scores[0],max_score),\n"
     ]
    },
    {
     "data": {
      "image/png": "[encoded data removed]",
      "text/plain": [
       "<Figure size 432x288 with 1 Axes>"
      ]
     },
     "metadata": {
      "needs_background": "light"
     },
     "output_type": "display_data"
    }
   ],
   "source": [
    "# -*- coding: utf-8 -*-\n",
    "# import numpy as np\n",
    "# import pandas as pd\n",
    "# import matplotlib.pyplot as plt\n",
    "# from sklearn.datasets import load_breast_cancer\n",
    "# from sklearn.ensemble import RandomForestClassifier\n",
    "# from sklearn.model_selection import GridSearchCV\n",
    "\n",
    "\n",
    "# cancer_data=load_breast_cancer()\n",
    "# df=pd.DataFrame(cancer_data['data'],columns=cancer_data['feature_names'])\n",
    "# df['target']=cancer_data['target']\n",
    "# X=df[cancer_data.feature_names]\n",
    "# y=cancer_data['target']\n",
    "\n",
    "n_estimators=list(range(1,101))\n",
    "params_grid={\n",
    "    'n_estimators': n_estimators,\n",
    "    }\n",
    "rnd_state=123\n",
    "rf=RandomForestClassifier(random_state=rnd_state)\n",
    "gs=GridSearchCV(rf,params_grid,cv=5)\n",
    "gs.fit(X,y)\n",
    " #collect max datapoints\n",
    "max_scores=[]\n",
    "scores=gs.cv_results_['mean_test_score'].round(4)\n",
    "max_score=np.max(scores)\n",
    "\n",
    "max_scores=[m for m in range(len(scores)) if scores[m] == max_score]\n",
    "\n",
    "#Graph Info\n",
    "title='Random state: '+ str(rnd_state)\n",
    "plt.plot(n_estimators,scores)\n",
    "plt.title(title,size=15)\n",
    "plt.xlabel('n_estimators')\n",
    "plt.ylabel('accuracy')\n",
    "plt.xlim(0,100)\n",
    "plt.ylim(0.9,1.0)\n",
    "plt.plot([max_scores],[max_score],\n",
    "        marker='o',\n",
    "        markersize=10,\n",
    "        markerfacecolor=None,\n",
    "        markeredgecolor='r')\n",
    "if len(max_scores) ==1 :\n",
    "    max_text='max point ['+ str(max_scores[0])+','+str(max_score)+']'\n",
    "    plt.annotate(s=max_text,xy=(max_scores[0],max_score),\n",
    "                  xytext=(max_scores[0]-10,max_score+0.01),\n",
    "                  color='r',\n",
    "                  size=10)\n",
    "else:\n",
    "    max_text='max : '+str(max_score)+' ('+str(len(max_scores))+' points)'\n",
    "    plt.text(30.0,0.91,max_text,c='b',size =10)\n",
    "plt.show()"
   ]
  },
  {
   "cell_type": "code",
   "execution_count": 28,
   "metadata": {},
   "outputs": [
    {
     "name": "stdout",
     "output_type": "stream",
     "text": [
      "worst radius            0.309701\n",
      "mean concave points     0.183126\n",
      "worst concave points    0.115641\n",
      "mean perimeter          0.064119\n",
      "mean radius             0.058742\n",
      "worst concavity         0.050951\n",
      "radius error            0.049103\n",
      "mean texture            0.017197\n",
      "worst area              0.016512\n",
      "mean concavity          0.014696\n",
      "area error              0.012605\n",
      "worst texture           0.011080\n",
      "mean area               0.009884\n",
      "worst smoothness        0.009018\n",
      "worst perimeter         0.008645\n",
      "dtype: float64\n"
     ]
    }
   ],
   "source": [
    "from sklearn.model_selection import train_test_split\n",
    "X_train, X_test, y_train, y_test = \\\n",
    "    train_test_split(X, y, random_state=101)\n",
    "rf = RandomForestClassifier(n_estimators=10, random_state=111)\n",
    "rf.fit(X_train, y_train)\n",
    "ft_imp = pd.Series(rf.feature_importances_, index=cancer_data.feature_names).sort_values(ascending=False)\n",
    "print(ft_imp.head(15))\n"
   ]
  },
  {
   "cell_type": "code",
   "execution_count": 29,
   "metadata": {},
   "outputs": [
    {
     "data": {
      "text/plain": [
       "0.965034965034965"
      ]
     },
     "execution_count": 29,
     "metadata": {},
     "output_type": "execute_result"
    }
   ],
   "source": [
    "rf.score(X_test, y_test)"
   ]
  },
  {
   "cell_type": "code",
   "execution_count": 30,
   "metadata": {},
   "outputs": [
    {
     "name": "stdout",
     "output_type": "stream",
     "text": [
      "['worst radius', 'worst texture', 'worst perimeter', 'worst area', 'worst smoothness', 'worst compactness', 'worst concavity', 'worst concave points', 'worst symmetry', 'worst fractal dimension']\n"
     ]
    }
   ],
   "source": [
    "worst_cols = [col for col in df.columns if 'worst' in col]\n",
    "print(worst_cols)"
   ]
  },
  {
   "cell_type": "code",
   "execution_count": 32,
   "metadata": {},
   "outputs": [],
   "source": [
    "# print(df)"
   ]
  },
  {
   "cell_type": "code",
   "execution_count": 36,
   "metadata": {},
   "outputs": [],
   "source": [
    "# df.columns"
   ]
  },
  {
   "cell_type": "code",
   "execution_count": 34,
   "metadata": {},
   "outputs": [
    {
     "data": {
      "text/plain": [
       "31"
      ]
     },
     "execution_count": 34,
     "metadata": {},
     "output_type": "execute_result"
    }
   ],
   "source": [
    "len(df.columns)"
   ]
  },
  {
   "cell_type": "code",
   "execution_count": 37,
   "metadata": {},
   "outputs": [],
   "source": [
    "X_worst = df[worst_cols]\n",
    "X_train, X_test, y_train, y_test = train_test_split(X_worst, y, random_state=101)"
   ]
  },
  {
   "cell_type": "code",
   "execution_count": 38,
   "metadata": {},
   "outputs": [
    {
     "data": {
      "text/plain": [
       "0.972027972027972"
      ]
     },
     "execution_count": 38,
     "metadata": {},
     "output_type": "execute_result"
    }
   ],
   "source": [
    "rf.fit(X_train, y_train)\n",
    "rf.score(X_test, y_test)"
   ]
  },
  {
   "cell_type": "code",
   "execution_count": 40,
   "metadata": {},
   "outputs": [
    {
     "name": "stdout",
     "output_type": "stream",
     "text": [
      "LR accuracy: 0.36\n",
      "RF accuracy: 0.8400000000000001\n"
     ]
    }
   ],
   "source": [
    "from sklearn.datasets import make_circles\n",
    "from sklearn.model_selection import KFold\n",
    "from sklearn.linear_model import LogisticRegression\n",
    "# from sklearn.ensemble import RandomForestClassifier\n",
    "# import numpy as np\n",
    "\n",
    "X, y = make_circles(noise=0.2, factor=0.5, random_state=1)\n",
    "\n",
    "kf = KFold(n_splits=5, shuffle=True, random_state=1)\n",
    "lr_scores = []\n",
    "rf_scores = []\n",
    "for train_index, test_index in kf.split(X):\n",
    "    X_train, X_test = X[train_index], X[test_index]\n",
    "    y_train, y_test = y[train_index], y[test_index]\n",
    "    lr = LogisticRegression(solver='lbfgs')\n",
    "    lr.fit(X_train, y_train)\n",
    "    lr_scores.append(lr.score(X_test, y_test))\n",
    "    rf = RandomForestClassifier(n_estimators=100)\n",
    "    rf.fit(X_train, y_train)\n",
    "    rf_scores.append(rf.score(X_test, y_test))\n",
    "print(\"LR accuracy:\", np.mean(lr_scores))\n",
    "print(\"RF accuracy:\", np.mean(rf_scores))"
   ]
  },
  {
   "cell_type": "code",
   "execution_count": null,
   "metadata": {},
   "outputs": [],
   "source": []
  }
 ],
 "metadata": {
  "kernelspec": {
   "display_name": "Python 3",
   "language": "python",
   "name": "python3"
  },
  "language_info": {
   "codemirror_mode": {
    "name": "ipython",
    "version": 3
   },
   "file_extension": ".py",
   "mimetype": "text/x-python",
   "name": "python",
   "nbconvert_exporter": "python",
   "pygments_lexer": "ipython3",
   "version": "3.8.5"
  }
 },
 "nbformat": 4,
 "nbformat_minor": 4
}
